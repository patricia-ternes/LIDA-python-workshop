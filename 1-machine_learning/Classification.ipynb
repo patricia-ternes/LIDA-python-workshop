{
 "cells": [
  {
   "cell_type": "markdown",
   "id": "624b84e3",
   "metadata": {},
   "source": [
    "# Classification\n",
    "\n",
    "Where regression was used to predict a numeric value, classification is used to seperate data points into classes of different labels. In this example we will use a TensorFlow estimator to classify flowers.\n",
    "\n",
    "This example was provided by the TensorFlow [website](https://www.tensorflow.org/tutorials/estimator/premade). "
   ]
  },
  {
   "cell_type": "markdown",
   "id": "4e97cfda",
   "metadata": {},
   "source": [
    "## Problem overview\n",
    "\n",
    "The dataset seperates flowers into 3 different classes of species.\n",
    "\n",
    "* Setosa\n",
    "* Versicolor\n",
    "* Virginica\n",
    "\n",
    "Each flower has four features:\n",
    "\n",
    "* sepal length\n",
    "* sepal width\n",
    "* petal length\n",
    "* petal width\n",
    "\n",
    "Data location:\n",
    "* train data: https://storage.googleapis.com/download.tensorflow.org/data/iris_training.csv\n",
    "* evaluation data: https://storage.googleapis.com/download.tensorflow.org/data/iris_test.csv"
   ]
  },
  {
   "cell_type": "markdown",
   "id": "97af53ac",
   "metadata": {},
   "source": [
    "## Download the data"
   ]
  },
  {
   "cell_type": "code",
   "execution_count": 1,
   "id": "4a6cac35",
   "metadata": {},
   "outputs": [],
   "source": [
    "import tensorflow as tf\n",
    "\n",
    "train_path = tf.keras.utils.get_file(\n",
    "    \"iris_training.csv\", \"https://storage.googleapis.com/download.tensorflow.org/data/iris_training.csv\")\n",
    "test_path = tf.keras.utils.get_file(\n",
    "    \"iris_test.csv\", \"https://storage.googleapis.com/download.tensorflow.org/data/iris_test.csv\")"
   ]
  },
  {
   "cell_type": "markdown",
   "id": "92027455",
   "metadata": {},
   "source": [
    "## Loading data with pandas"
   ]
  },
  {
   "cell_type": "code",
   "execution_count": 2,
   "id": "c4844ce5",
   "metadata": {},
   "outputs": [],
   "source": [
    "import pandas as pd\n",
    "\n",
    "CSV_COLUMN_NAMES = ['SepalLength', 'SepalWidth', 'PetalLength', 'PetalWidth', 'Species']\n",
    "train = pd.read_csv(train_path, names=CSV_COLUMN_NAMES, header=0)\n",
    "test = pd.read_csv(test_path, names=CSV_COLUMN_NAMES, header=0)"
   ]
  },
  {
   "cell_type": "markdown",
   "id": "7f2dd83e",
   "metadata": {},
   "source": [
    "### Explore the data"
   ]
  },
  {
   "cell_type": "code",
   "execution_count": 3,
   "id": "9f96d7aa",
   "metadata": {},
   "outputs": [
    {
     "data": {
      "text/html": [
       "<div>\n",
       "<style scoped>\n",
       "    .dataframe tbody tr th:only-of-type {\n",
       "        vertical-align: middle;\n",
       "    }\n",
       "\n",
       "    .dataframe tbody tr th {\n",
       "        vertical-align: top;\n",
       "    }\n",
       "\n",
       "    .dataframe thead th {\n",
       "        text-align: right;\n",
       "    }\n",
       "</style>\n",
       "<table border=\"1\" class=\"dataframe\">\n",
       "  <thead>\n",
       "    <tr style=\"text-align: right;\">\n",
       "      <th></th>\n",
       "      <th>SepalLength</th>\n",
       "      <th>SepalWidth</th>\n",
       "      <th>PetalLength</th>\n",
       "      <th>PetalWidth</th>\n",
       "      <th>Species</th>\n",
       "    </tr>\n",
       "  </thead>\n",
       "  <tbody>\n",
       "    <tr>\n",
       "      <th>0</th>\n",
       "      <td>6.4</td>\n",
       "      <td>2.8</td>\n",
       "      <td>5.6</td>\n",
       "      <td>2.2</td>\n",
       "      <td>2</td>\n",
       "    </tr>\n",
       "    <tr>\n",
       "      <th>1</th>\n",
       "      <td>5.0</td>\n",
       "      <td>2.3</td>\n",
       "      <td>3.3</td>\n",
       "      <td>1.0</td>\n",
       "      <td>1</td>\n",
       "    </tr>\n",
       "    <tr>\n",
       "      <th>2</th>\n",
       "      <td>4.9</td>\n",
       "      <td>2.5</td>\n",
       "      <td>4.5</td>\n",
       "      <td>1.7</td>\n",
       "      <td>2</td>\n",
       "    </tr>\n",
       "    <tr>\n",
       "      <th>3</th>\n",
       "      <td>4.9</td>\n",
       "      <td>3.1</td>\n",
       "      <td>1.5</td>\n",
       "      <td>0.1</td>\n",
       "      <td>0</td>\n",
       "    </tr>\n",
       "    <tr>\n",
       "      <th>4</th>\n",
       "      <td>5.7</td>\n",
       "      <td>3.8</td>\n",
       "      <td>1.7</td>\n",
       "      <td>0.3</td>\n",
       "      <td>0</td>\n",
       "    </tr>\n",
       "  </tbody>\n",
       "</table>\n",
       "</div>"
      ],
      "text/plain": [
       "   SepalLength  SepalWidth  PetalLength  PetalWidth  Species\n",
       "0          6.4         2.8          5.6         2.2        2\n",
       "1          5.0         2.3          3.3         1.0        1\n",
       "2          4.9         2.5          4.5         1.7        2\n",
       "3          4.9         3.1          1.5         0.1        0\n",
       "4          5.7         3.8          1.7         0.3        0"
      ]
     },
     "execution_count": 3,
     "metadata": {},
     "output_type": "execute_result"
    }
   ],
   "source": [
    "train.head()"
   ]
  },
  {
   "cell_type": "code",
   "execution_count": 4,
   "id": "f1350ad1",
   "metadata": {},
   "outputs": [
    {
     "data": {
      "text/html": [
       "<div>\n",
       "<style scoped>\n",
       "    .dataframe tbody tr th:only-of-type {\n",
       "        vertical-align: middle;\n",
       "    }\n",
       "\n",
       "    .dataframe tbody tr th {\n",
       "        vertical-align: top;\n",
       "    }\n",
       "\n",
       "    .dataframe thead th {\n",
       "        text-align: right;\n",
       "    }\n",
       "</style>\n",
       "<table border=\"1\" class=\"dataframe\">\n",
       "  <thead>\n",
       "    <tr style=\"text-align: right;\">\n",
       "      <th></th>\n",
       "      <th>SepalLength</th>\n",
       "      <th>SepalWidth</th>\n",
       "      <th>PetalLength</th>\n",
       "      <th>PetalWidth</th>\n",
       "      <th>Species</th>\n",
       "    </tr>\n",
       "  </thead>\n",
       "  <tbody>\n",
       "    <tr>\n",
       "      <th>0</th>\n",
       "      <td>5.9</td>\n",
       "      <td>3.0</td>\n",
       "      <td>4.2</td>\n",
       "      <td>1.5</td>\n",
       "      <td>1</td>\n",
       "    </tr>\n",
       "    <tr>\n",
       "      <th>1</th>\n",
       "      <td>6.9</td>\n",
       "      <td>3.1</td>\n",
       "      <td>5.4</td>\n",
       "      <td>2.1</td>\n",
       "      <td>2</td>\n",
       "    </tr>\n",
       "    <tr>\n",
       "      <th>2</th>\n",
       "      <td>5.1</td>\n",
       "      <td>3.3</td>\n",
       "      <td>1.7</td>\n",
       "      <td>0.5</td>\n",
       "      <td>0</td>\n",
       "    </tr>\n",
       "    <tr>\n",
       "      <th>3</th>\n",
       "      <td>6.0</td>\n",
       "      <td>3.4</td>\n",
       "      <td>4.5</td>\n",
       "      <td>1.6</td>\n",
       "      <td>1</td>\n",
       "    </tr>\n",
       "    <tr>\n",
       "      <th>4</th>\n",
       "      <td>5.5</td>\n",
       "      <td>2.5</td>\n",
       "      <td>4.0</td>\n",
       "      <td>1.3</td>\n",
       "      <td>1</td>\n",
       "    </tr>\n",
       "  </tbody>\n",
       "</table>\n",
       "</div>"
      ],
      "text/plain": [
       "   SepalLength  SepalWidth  PetalLength  PetalWidth  Species\n",
       "0          5.9         3.0          4.2         1.5        1\n",
       "1          6.9         3.1          5.4         2.1        2\n",
       "2          5.1         3.3          1.7         0.5        0\n",
       "3          6.0         3.4          4.5         1.6        1\n",
       "4          5.5         2.5          4.0         1.3        1"
      ]
     },
     "execution_count": 4,
     "metadata": {},
     "output_type": "execute_result"
    }
   ],
   "source": [
    "test.head()"
   ]
  },
  {
   "cell_type": "code",
   "execution_count": 5,
   "id": "2df94334",
   "metadata": {},
   "outputs": [
    {
     "name": "stdout",
     "output_type": "stream",
     "text": [
      "(120, 5) (30, 5)\n"
     ]
    }
   ],
   "source": [
    "print(train.shape, test.shape)"
   ]
  },
  {
   "cell_type": "markdown",
   "id": "e6a8a0ba",
   "metadata": {},
   "source": [
    "#### Sepal length distribution"
   ]
  },
  {
   "cell_type": "code",
   "execution_count": 6,
   "id": "1e33b949",
   "metadata": {},
   "outputs": [
    {
     "data": {
      "text/plain": [
       "<AxesSubplot:>"
      ]
     },
     "execution_count": 6,
     "metadata": {},
     "output_type": "execute_result"
    },
    {
     "data": {
      "image/png": "[encoded data removed]",
      "text/plain": [
       "<Figure size 432x288 with 1 Axes>"
      ]
     },
     "metadata": {
      "needs_background": "light"
     },
     "output_type": "display_data"
    }
   ],
   "source": [
    "train.SepalLength.hist(bins=20)"
   ]
  },
  {
   "cell_type": "markdown",
   "id": "e3d78008",
   "metadata": {},
   "source": [
    "#### Species distribution"
   ]
  },
  {
   "cell_type": "code",
   "execution_count": 7,
   "id": "f25a2869",
   "metadata": {},
   "outputs": [
    {
     "data": {
      "text/plain": [
       "<AxesSubplot:>"
      ]
     },
     "execution_count": 7,
     "metadata": {},
     "output_type": "execute_result"
    },
    {
     "data": {
      "image/png": "[encoded data removed]",
      "text/plain": [
       "<Figure size 432x288 with 1 Axes>"
      ]
     },
     "metadata": {
      "needs_background": "light"
     },
     "output_type": "display_data"
    }
   ],
   "source": [
    "train.Species.value_counts().plot(kind='barh')"
   ]
  },
  {
   "cell_type": "markdown",
   "id": "43ac08c1",
   "metadata": {},
   "source": [
    "### Getting the target variable column"
   ]
  },
  {
   "cell_type": "code",
   "execution_count": 8,
   "id": "5d4627a1",
   "metadata": {},
   "outputs": [],
   "source": [
    "train_y = train.pop('Species')\n",
    "test_y = test.pop('Species')"
   ]
  },
  {
   "cell_type": "code",
   "execution_count": 9,
   "id": "ded21760",
   "metadata": {},
   "outputs": [
    {
     "data": {
      "text/html": [
       "<div>\n",
       "<style scoped>\n",
       "    .dataframe tbody tr th:only-of-type {\n",
       "        vertical-align: middle;\n",
       "    }\n",
       "\n",
       "    .dataframe tbody tr th {\n",
       "        vertical-align: top;\n",
       "    }\n",
       "\n",
       "    .dataframe thead th {\n",
       "        text-align: right;\n",
       "    }\n",
       "</style>\n",
       "<table border=\"1\" class=\"dataframe\">\n",
       "  <thead>\n",
       "    <tr style=\"text-align: right;\">\n",
       "      <th></th>\n",
       "      <th>SepalLength</th>\n",
       "      <th>SepalWidth</th>\n",
       "      <th>PetalLength</th>\n",
       "      <th>PetalWidth</th>\n",
       "    </tr>\n",
       "  </thead>\n",
       "  <tbody>\n",
       "    <tr>\n",
       "      <th>0</th>\n",
       "      <td>6.4</td>\n",
       "      <td>2.8</td>\n",
       "      <td>5.6</td>\n",
       "      <td>2.2</td>\n",
       "    </tr>\n",
       "    <tr>\n",
       "      <th>1</th>\n",
       "      <td>5.0</td>\n",
       "      <td>2.3</td>\n",
       "      <td>3.3</td>\n",
       "      <td>1.0</td>\n",
       "    </tr>\n",
       "    <tr>\n",
       "      <th>2</th>\n",
       "      <td>4.9</td>\n",
       "      <td>2.5</td>\n",
       "      <td>4.5</td>\n",
       "      <td>1.7</td>\n",
       "    </tr>\n",
       "    <tr>\n",
       "      <th>3</th>\n",
       "      <td>4.9</td>\n",
       "      <td>3.1</td>\n",
       "      <td>1.5</td>\n",
       "      <td>0.1</td>\n",
       "    </tr>\n",
       "    <tr>\n",
       "      <th>4</th>\n",
       "      <td>5.7</td>\n",
       "      <td>3.8</td>\n",
       "      <td>1.7</td>\n",
       "      <td>0.3</td>\n",
       "    </tr>\n",
       "  </tbody>\n",
       "</table>\n",
       "</div>"
      ],
      "text/plain": [
       "   SepalLength  SepalWidth  PetalLength  PetalWidth\n",
       "0          6.4         2.8          5.6         2.2\n",
       "1          5.0         2.3          3.3         1.0\n",
       "2          4.9         2.5          4.5         1.7\n",
       "3          4.9         3.1          1.5         0.1\n",
       "4          5.7         3.8          1.7         0.3"
      ]
     },
     "execution_count": 9,
     "metadata": {},
     "output_type": "execute_result"
    }
   ],
   "source": [
    "train.head() # the species column is now gone"
   ]
  },
  {
   "cell_type": "code",
   "execution_count": 10,
   "id": "1a178ba9",
   "metadata": {},
   "outputs": [
    {
     "data": {
      "text/plain": [
       "0    2\n",
       "1    1\n",
       "2    2\n",
       "3    0\n",
       "4    0\n",
       "Name: Species, dtype: int64"
      ]
     },
     "execution_count": 10,
     "metadata": {},
     "output_type": "execute_result"
    }
   ],
   "source": [
    "train_y.head()"
   ]
  },
  {
   "cell_type": "markdown",
   "id": "a9c3a388",
   "metadata": {},
   "source": [
    "### Features"
   ]
  },
  {
   "cell_type": "code",
   "execution_count": 11,
   "id": "fdc95728",
   "metadata": {},
   "outputs": [],
   "source": [
    "my_feature_columns = []"
   ]
  },
  {
   "cell_type": "markdown",
   "id": "72e26ed0",
   "metadata": {},
   "source": [
    "#### Numerical data"
   ]
  },
  {
   "cell_type": "code",
   "execution_count": 12,
   "id": "9b44398b",
   "metadata": {},
   "outputs": [
    {
     "name": "stdout",
     "output_type": "stream",
     "text": [
      "[NumericColumn(key='SepalLength', shape=(1,), default_value=None, dtype=tf.float32, normalizer_fn=None), NumericColumn(key='SepalWidth', shape=(1,), default_value=None, dtype=tf.float32, normalizer_fn=None), NumericColumn(key='PetalLength', shape=(1,), default_value=None, dtype=tf.float32, normalizer_fn=None), NumericColumn(key='PetalWidth', shape=(1,), default_value=None, dtype=tf.float32, normalizer_fn=None)]\n"
     ]
    }
   ],
   "source": [
    "# Feature columns describe how to use the input.\n",
    "my_feature_columns = []\n",
    "for key in train.keys():\n",
    "    my_feature_columns.append(tf.feature_column.numeric_column(key=key))\n",
    "print(my_feature_columns)"
   ]
  },
  {
   "cell_type": "markdown",
   "id": "65a4ce46",
   "metadata": {},
   "source": [
    "#### Defining the model"
   ]
  },
  {
   "cell_type": "markdown",
   "id": "50a375cd",
   "metadata": {},
   "source": [
    "This problem is a classic classification problem. Fortunately, TensorFlow provides several pre-made classifier Estimators, including:\n",
    "\n",
    "* `tf.estimator.DNNClassifier` for deep models that perform multi-class classification.\n",
    "* `tf.estimator.DNNLinearCombinedClassifier` for wide & deep models.\n",
    "* `tf.estimator.LinearClassifier` for classifiers based on linear models.\n",
    "\n",
    "For this problem, `tf.estimator.DNNClassifier` seems like the best choice. \n",
    "Here's how you instantiated this Estimator:"
   ]
  },
  {
   "cell_type": "code",
   "execution_count": 13,
   "id": "fa14de8a",
   "metadata": {},
   "outputs": [
    {
     "name": "stdout",
     "output_type": "stream",
     "text": [
      "INFO:tensorflow:Using default config.\n",
      "WARNING:tensorflow:Using temporary folder as model directory: /tmp/tmpxw3xg5ro\n",
      "INFO:tensorflow:Using config: {'_model_dir': '/tmp/tmpxw3xg5ro', '_tf_random_seed': None, '_save_summary_steps': 100, '_save_checkpoints_steps': None, '_save_checkpoints_secs': 600, '_session_config': allow_soft_placement: true\n",
      "graph_options {\n",
      "  rewrite_options {\n",
      "    meta_optimizer_iterations: ONE\n",
      "  }\n",
      "}\n",
      ", '_keep_checkpoint_max': 5, '_keep_checkpoint_every_n_hours': 10000, '_log_step_count_steps': 100, '_train_distribute': None, '_device_fn': None, '_protocol': None, '_eval_distribute': None, '_experimental_distribute': None, '_experimental_max_worker_delay_secs': None, '_session_creation_timeout_secs': 7200, '_checkpoint_save_graph_def': True, '_service': None, '_cluster_spec': ClusterSpec({}), '_task_type': 'worker', '_task_id': 0, '_global_id_in_cluster': 0, '_master': '', '_evaluation_master': '', '_is_chief': True, '_num_ps_replicas': 0, '_num_worker_replicas': 1}\n"
     ]
    }
   ],
   "source": [
    "# Build a Deep Neural Network with 2 hidden layers with 30 and 10 hidden nodes each.\n",
    "classifier = tf.estimator.DNNClassifier(\n",
    "    feature_columns=my_feature_columns,\n",
    "    # Two hidden layers of 30 and 10 nodes respectively.\n",
    "    hidden_units=[30, 10],\n",
    "    # The model must choose between 3 classes.\n",
    "    n_classes=3)"
   ]
  },
  {
   "cell_type": "markdown",
   "id": "c1f0a55c",
   "metadata": {},
   "source": [
    "#### Organizing the input data"
   ]
  },
  {
   "cell_type": "code",
   "execution_count": 14,
   "id": "973c6c30",
   "metadata": {},
   "outputs": [],
   "source": [
    "def input_fn(features, labels, training=True, batch_size=256):\n",
    "    # Convert the inputs to a Dataset.\n",
    "    dataset = tf.data.Dataset.from_tensor_slices((dict(features), labels))\n",
    "\n",
    "    # Shuffle and repeat if you are in training mode.\n",
    "    if training:\n",
    "        dataset = dataset.shuffle(1000).repeat()\n",
    "    \n",
    "    return dataset.batch(batch_size)\n",
    "\n",
    "train_input_fn=lambda: input_fn(train, train_y, training=True)\n",
    "eval_input_fn=lambda: input_fn(test, test_y, training=False)"
   ]
  },
  {
   "cell_type": "markdown",
   "id": "703bff15",
   "metadata": {},
   "source": [
    "#### Training the model with the organized input data"
   ]
  },
  {
   "cell_type": "code",
   "execution_count": 15,
   "id": "58d583c2",
   "metadata": {},
   "outputs": [
    {
     "name": "stdout",
     "output_type": "stream",
     "text": [
      "WARNING:tensorflow:From /home/earpte/.local/lib/python3.6/site-packages/tensorflow/python/training/training_util.py:236: Variable.initialized_value (from tensorflow.python.ops.variables) is deprecated and will be removed in a future version.\n",
      "Instructions for updating:\n",
      "Use Variable.read_value. Variables in 2.X are initialized automatically both in eager and graph (inside tf.defun) contexts.\n",
      "INFO:tensorflow:Calling model_fn.\n",
      "WARNING:tensorflow:From /home/earpte/.local/lib/python3.6/site-packages/keras/optimizer_v2/adagrad.py:84: calling Constant.__init__ (from tensorflow.python.ops.init_ops) with dtype is deprecated and will be removed in a future version.\n",
      "Instructions for updating:\n",
      "Call initializer instance with the dtype argument instead of passing it to the constructor\n",
      "INFO:tensorflow:Done calling model_fn.\n",
      "INFO:tensorflow:Create CheckpointSaverHook.\n",
      "INFO:tensorflow:Graph was finalized.\n",
      "INFO:tensorflow:Running local_init_op.\n",
      "INFO:tensorflow:Done running local_init_op.\n",
      "INFO:tensorflow:Calling checkpoint listeners before saving checkpoint 0...\n",
      "INFO:tensorflow:Saving checkpoints for 0 into /tmp/tmpxw3xg5ro/model.ckpt.\n",
      "INFO:tensorflow:Calling checkpoint listeners after saving checkpoint 0...\n",
      "INFO:tensorflow:loss = 2.4649198, step = 0\n",
      "INFO:tensorflow:global_step/sec: 558.779\n",
      "INFO:tensorflow:loss = 1.1674706, step = 100 (0.180 sec)\n",
      "INFO:tensorflow:global_step/sec: 662.262\n",
      "INFO:tensorflow:loss = 0.99301064, step = 200 (0.151 sec)\n",
      "INFO:tensorflow:global_step/sec: 631.52\n",
      "INFO:tensorflow:loss = 0.92399323, step = 300 (0.158 sec)\n",
      "INFO:tensorflow:global_step/sec: 660.505\n",
      "INFO:tensorflow:loss = 0.89165056, step = 400 (0.151 sec)\n",
      "INFO:tensorflow:global_step/sec: 627.667\n",
      "INFO:tensorflow:loss = 0.8447856, step = 500 (0.159 sec)\n",
      "INFO:tensorflow:global_step/sec: 669.781\n",
      "INFO:tensorflow:loss = 0.82238364, step = 600 (0.149 sec)\n",
      "INFO:tensorflow:global_step/sec: 666.46\n",
      "INFO:tensorflow:loss = 0.7931156, step = 700 (0.150 sec)\n",
      "INFO:tensorflow:global_step/sec: 651.996\n",
      "INFO:tensorflow:loss = 0.7724341, step = 800 (0.154 sec)\n",
      "INFO:tensorflow:global_step/sec: 661.011\n",
      "INFO:tensorflow:loss = 0.7540992, step = 900 (0.151 sec)\n",
      "INFO:tensorflow:global_step/sec: 605.57\n",
      "INFO:tensorflow:loss = 0.73233664, step = 1000 (0.165 sec)\n",
      "INFO:tensorflow:global_step/sec: 666.657\n",
      "INFO:tensorflow:loss = 0.7148099, step = 1100 (0.150 sec)\n",
      "INFO:tensorflow:global_step/sec: 655.729\n",
      "INFO:tensorflow:loss = 0.7052276, step = 1200 (0.152 sec)\n",
      "INFO:tensorflow:global_step/sec: 645.096\n",
      "INFO:tensorflow:loss = 0.6776132, step = 1300 (0.155 sec)\n",
      "INFO:tensorflow:global_step/sec: 715.531\n",
      "INFO:tensorflow:loss = 0.668427, step = 1400 (0.140 sec)\n",
      "INFO:tensorflow:global_step/sec: 664.621\n",
      "INFO:tensorflow:loss = 0.66268647, step = 1500 (0.150 sec)\n",
      "INFO:tensorflow:global_step/sec: 675.729\n",
      "INFO:tensorflow:loss = 0.6376189, step = 1600 (0.148 sec)\n",
      "INFO:tensorflow:global_step/sec: 654.133\n",
      "INFO:tensorflow:loss = 0.64351404, step = 1700 (0.153 sec)\n",
      "INFO:tensorflow:global_step/sec: 667.32\n",
      "INFO:tensorflow:loss = 0.62305677, step = 1800 (0.150 sec)\n",
      "INFO:tensorflow:global_step/sec: 660.079\n",
      "INFO:tensorflow:loss = 0.60472846, step = 1900 (0.152 sec)\n",
      "INFO:tensorflow:global_step/sec: 664.772\n",
      "INFO:tensorflow:loss = 0.59563214, step = 2000 (0.150 sec)\n",
      "INFO:tensorflow:global_step/sec: 665.684\n",
      "INFO:tensorflow:loss = 0.5972978, step = 2100 (0.150 sec)\n",
      "INFO:tensorflow:global_step/sec: 660.175\n",
      "INFO:tensorflow:loss = 0.5804014, step = 2200 (0.151 sec)\n",
      "INFO:tensorflow:global_step/sec: 655.551\n",
      "INFO:tensorflow:loss = 0.5702659, step = 2300 (0.152 sec)\n",
      "INFO:tensorflow:global_step/sec: 648.287\n",
      "INFO:tensorflow:loss = 0.55674505, step = 2400 (0.155 sec)\n",
      "INFO:tensorflow:global_step/sec: 694.796\n",
      "INFO:tensorflow:loss = 0.5577792, step = 2500 (0.144 sec)\n",
      "INFO:tensorflow:global_step/sec: 682.844\n",
      "INFO:tensorflow:loss = 0.5473627, step = 2600 (0.146 sec)\n",
      "INFO:tensorflow:global_step/sec: 656.49\n",
      "INFO:tensorflow:loss = 0.5391637, step = 2700 (0.152 sec)\n",
      "INFO:tensorflow:global_step/sec: 655.365\n",
      "INFO:tensorflow:loss = 0.5165411, step = 2800 (0.153 sec)\n",
      "INFO:tensorflow:global_step/sec: 656.182\n",
      "INFO:tensorflow:loss = 0.5189396, step = 2900 (0.152 sec)\n",
      "INFO:tensorflow:global_step/sec: 471.3\n",
      "INFO:tensorflow:loss = 0.5128063, step = 3000 (0.214 sec)\n",
      "INFO:tensorflow:global_step/sec: 361.184\n",
      "INFO:tensorflow:loss = 0.4918901, step = 3100 (0.275 sec)\n",
      "INFO:tensorflow:global_step/sec: 669.504\n",
      "INFO:tensorflow:loss = 0.4982993, step = 3200 (0.150 sec)\n",
      "INFO:tensorflow:global_step/sec: 655.459\n",
      "INFO:tensorflow:loss = 0.48845443, step = 3300 (0.152 sec)\n",
      "INFO:tensorflow:global_step/sec: 567.137\n",
      "INFO:tensorflow:loss = 0.4887513, step = 3400 (0.176 sec)\n",
      "INFO:tensorflow:global_step/sec: 636.692\n",
      "INFO:tensorflow:loss = 0.48086727, step = 3500 (0.157 sec)\n",
      "INFO:tensorflow:global_step/sec: 712.468\n",
      "INFO:tensorflow:loss = 0.473771, step = 3600 (0.140 sec)\n",
      "INFO:tensorflow:global_step/sec: 706.871\n",
      "INFO:tensorflow:loss = 0.46693677, step = 3700 (0.141 sec)\n",
      "INFO:tensorflow:global_step/sec: 647.143\n",
      "INFO:tensorflow:loss = 0.47810942, step = 3800 (0.154 sec)\n",
      "INFO:tensorflow:global_step/sec: 638.845\n",
      "INFO:tensorflow:loss = 0.47165036, step = 3900 (0.158 sec)\n",
      "INFO:tensorflow:global_step/sec: 529.21\n",
      "INFO:tensorflow:loss = 0.45325226, step = 4000 (0.188 sec)\n",
      "INFO:tensorflow:global_step/sec: 620.47\n",
      "INFO:tensorflow:loss = 0.4528584, step = 4100 (0.161 sec)\n",
      "INFO:tensorflow:global_step/sec: 688.773\n",
      "INFO:tensorflow:loss = 0.45302722, step = 4200 (0.145 sec)\n",
      "INFO:tensorflow:global_step/sec: 608.832\n",
      "INFO:tensorflow:loss = 0.45221514, step = 4300 (0.166 sec)\n",
      "INFO:tensorflow:global_step/sec: 651.659\n",
      "INFO:tensorflow:loss = 0.4483463, step = 4400 (0.152 sec)\n",
      "INFO:tensorflow:global_step/sec: 719.927\n",
      "INFO:tensorflow:loss = 0.43446243, step = 4500 (0.139 sec)\n",
      "INFO:tensorflow:global_step/sec: 690.69\n",
      "INFO:tensorflow:loss = 0.43204555, step = 4600 (0.145 sec)\n",
      "INFO:tensorflow:global_step/sec: 653.687\n",
      "INFO:tensorflow:loss = 0.4295358, step = 4700 (0.153 sec)\n",
      "INFO:tensorflow:global_step/sec: 669.344\n",
      "INFO:tensorflow:loss = 0.42809483, step = 4800 (0.150 sec)\n",
      "INFO:tensorflow:global_step/sec: 666.951\n",
      "INFO:tensorflow:loss = 0.41223508, step = 4900 (0.150 sec)\n",
      "INFO:tensorflow:Calling checkpoint listeners before saving checkpoint 5000...\n",
      "INFO:tensorflow:Saving checkpoints for 5000 into /tmp/tmpxw3xg5ro/model.ckpt.\n",
      "INFO:tensorflow:Calling checkpoint listeners after saving checkpoint 5000...\n",
      "INFO:tensorflow:Loss for final step: 0.4062667.\n"
     ]
    },
    {
     "data": {
      "text/plain": [
       "<tensorflow_estimator.python.estimator.canned.dnn.DNNClassifierV2 at 0x7ff326e6e828>"
      ]
     },
     "execution_count": 15,
     "metadata": {},
     "output_type": "execute_result"
    }
   ],
   "source": [
    "from IPython.display import clear_output\n",
    "\n",
    "classifier.train(input_fn=train_input_fn, steps=5000)\n",
    "#clear_output()"
   ]
  },
  {
   "cell_type": "markdown",
   "id": "d7ae5457",
   "metadata": {},
   "source": [
    "#### Evaluating"
   ]
  },
  {
   "cell_type": "code",
   "execution_count": 16,
   "id": "bebe0cef",
   "metadata": {},
   "outputs": [
    {
     "name": "stdout",
     "output_type": "stream",
     "text": [
      "INFO:tensorflow:Calling model_fn.\n",
      "INFO:tensorflow:Done calling model_fn.\n",
      "INFO:tensorflow:Starting evaluation at 2021-10-13T13:21:00\n",
      "INFO:tensorflow:Graph was finalized.\n",
      "INFO:tensorflow:Restoring parameters from /tmp/tmpxw3xg5ro/model.ckpt-5000\n",
      "INFO:tensorflow:Running local_init_op.\n",
      "INFO:tensorflow:Done running local_init_op.\n",
      "INFO:tensorflow:Inference Time : 0.24860s\n",
      "INFO:tensorflow:Finished evaluation at 2021-10-13-13:21:00\n",
      "INFO:tensorflow:Saving dict for global step 5000: accuracy = 0.9, average_loss = 0.4882456, global_step = 5000, loss = 0.4882456\n",
      "INFO:tensorflow:Saving 'checkpoint_path' summary for global step 5000: /tmp/tmpxw3xg5ro/model.ckpt-5000\n",
      "\n",
      "Test set accuracy: 0.900\n",
      "\n"
     ]
    }
   ],
   "source": [
    "eval_result = classifier.evaluate(eval_input_fn)\n",
    "\n",
    "print('\\nTest set accuracy: {accuracy:0.3f}\\n'.format(**eval_result))"
   ]
  },
  {
   "cell_type": "markdown",
   "id": "2c8fdcff",
   "metadata": {},
   "source": [
    "### Prediction"
   ]
  },
  {
   "cell_type": "code",
   "execution_count": 17,
   "id": "5a65b8ca",
   "metadata": {},
   "outputs": [],
   "source": [
    "def input_fn(features, batch_size=256):\n",
    "    \"\"\"An input function for prediction.\"\"\"\n",
    "    # Convert the inputs to a Dataset without labels.\n",
    "    return tf.data.Dataset.from_tensor_slices(dict(features)).batch(batch_size)\n",
    "\n",
    "SPECIES = ['Setosa', 'Versicolor', 'Virginica'] # for class_ids = [0,1,2]"
   ]
  },
  {
   "cell_type": "code",
   "execution_count": 18,
   "id": "02b20605",
   "metadata": {},
   "outputs": [
    {
     "name": "stdout",
     "output_type": "stream",
     "text": [
      "INFO:tensorflow:Calling model_fn.\n",
      "INFO:tensorflow:Done calling model_fn.\n",
      "INFO:tensorflow:Graph was finalized.\n",
      "INFO:tensorflow:Restoring parameters from /tmp/tmpxw3xg5ro/model.ckpt-5000\n",
      "INFO:tensorflow:Running local_init_op.\n",
      "INFO:tensorflow:Done running local_init_op.\n",
      "Prediction is \"Setosa\" (80.3%)\n"
     ]
    }
   ],
   "source": [
    "#defining the input\n",
    "predict = {'SepalLength': [5.1], 'SepalWidth': [3.3], 'PetalLength': [1.7], 'PetalWidth': [0.5]}\n",
    "#predict = {'SepalLength': [6.9], 'SepalWidth': [3.1], 'PetalLength': [5.4], 'PetalWidth': [2.1]}\n",
    "#predict = {'SepalLength': [5.9], 'SepalWidth': [3.0], 'PetalLength': [4.2], 'PetalWidth': [1.5]}\n",
    "\n",
    "#making the prediction\n",
    "prediction = list(classifier.predict(input_fn=lambda: input_fn(predict)))\n",
    "\n",
    "#getting the desired output\n",
    "prediction1 = dict(prediction[-1])\n",
    "class_id = prediction1['class_ids'][0]\n",
    "probability = prediction1['probabilities'][class_id]\n",
    "\n",
    "#printing\n",
    "print('Prediction is \"{}\" ({:.1f}%)'.format(SPECIES[class_id], 100 * probability))"
   ]
  }
 ],
 "metadata": {
  "kernelspec": {
   "display_name": "Python 3",
   "language": "python",
   "name": "python3"
  },
  "language_info": {
   "codemirror_mode": {
    "name": "ipython",
    "version": 3
   },
   "file_extension": ".py",
   "mimetype": "text/x-python",
   "name": "python",
   "nbconvert_exporter": "python",
   "pygments_lexer": "ipython3",
   "version": "3.6.8"
  }
 },
 "nbformat": 4,
 "nbformat_minor": 5
}
