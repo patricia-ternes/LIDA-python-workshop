{
 "cells": [
  {
   "cell_type": "markdown",
   "id": "624b84e3",
   "metadata": {},
   "source": [
    "# Hidden Markov Models\n",
    "\n",
    "A hidden markov model works with probabilities to predict future events or states. In this section we will learn how to create a hidden markov model that can predict the weather.\n",
    "\n",
    "This example was provided by the TensorFlow [website](https://www.tensorflow.org/tutorials/estimator/premade). "
   ]
  },
  {
   "cell_type": "markdown",
   "id": "97af53ac",
   "metadata": {},
   "source": [
    "## Building a weather model\n",
    "\n",
    "Build a weather model to try to predict the temperature on each day given:\n",
    "\n",
    "* Cold days = 0\n",
    "* Hot days = 1\n",
    "* A cold day has a 30% chance of being followed by a hot day.\n",
    "* A hot day has a 20% chance of being followed by a cold day."
   ]
  },
  {
   "cell_type": "code",
   "execution_count": 1,
   "id": "4a6cac35",
   "metadata": {},
   "outputs": [],
   "source": [
    "import tensorflow_probability as tfp  # We are using a different module from tensorflow this time\n",
    "\n",
    "import tensorflow as tf"
   ]
  },
  {
   "cell_type": "code",
   "execution_count": 2,
   "id": "e2f604fb",
   "metadata": {},
   "outputs": [],
   "source": [
    "from tensorflow_probability import distributions as tfd\n",
    "\n",
    "transition_distribution = tfd.Categorical(probs=[[0.7, 0.3],\n",
    "                                                 [0.2, 0.8]])"
   ]
  },
  {
   "cell_type": "markdown",
   "id": "8da8b205",
   "metadata": {},
   "source": [
    "### Initial probabilities\n",
    "\n",
    "The first day in our sequence has an 80% chance of being cold."
   ]
  },
  {
   "cell_type": "code",
   "execution_count": 3,
   "id": "c4844ce5",
   "metadata": {},
   "outputs": [],
   "source": [
    "initial_distribution = tfd.Categorical(probs=[0.8, 0.2])"
   ]
  },
  {
   "cell_type": "markdown",
   "id": "c5d79d56",
   "metadata": {},
   "source": [
    "### Observation distributions\n",
    "\n",
    "* Cold day: mean = 0 and standard deviation = 5\n",
    "* Hot day: mean= 15 and standard deviation = 10"
   ]
  },
  {
   "cell_type": "code",
   "execution_count": 4,
   "id": "9f96d7aa",
   "metadata": {},
   "outputs": [],
   "source": [
    "observation_distribution = tfd.Normal(loc=[0.0, 15.0], scale=[5.0, 10.0])  #use floats values!\n",
    "# loc represents the mean\n",
    "# scale is the standard devitation"
   ]
  },
  {
   "cell_type": "markdown",
   "id": "b8b03812",
   "metadata": {},
   "source": [
    "### Prediction"
   ]
  },
  {
   "cell_type": "code",
   "execution_count": 7,
   "id": "f1350ad1",
   "metadata": {},
   "outputs": [],
   "source": [
    "N_days_ahead = 7\n",
    "model = tfd.HiddenMarkovModel(\n",
    "    initial_distribution=initial_distribution,\n",
    "    transition_distribution=transition_distribution,\n",
    "    observation_distribution=observation_distribution,\n",
    "    num_steps=N_days_ahead)"
   ]
  },
  {
   "cell_type": "code",
   "execution_count": 8,
   "id": "2df94334",
   "metadata": {},
   "outputs": [
    {
     "name": "stdout",
     "output_type": "stream",
     "text": [
      "day  1 mean temperature =  2.9999998\n",
      "day  2 mean temperature =  5.0999994\n",
      "day  3 mean temperature =  5.52\n",
      "day  4 mean temperature =  5.6039996\n",
      "day  5 mean temperature =  5.6207995\n",
      "day  6 mean temperature =  5.62416\n",
      "day  7 mean temperature =  5.6248317\n"
     ]
    }
   ],
   "source": [
    "mean = model.mean()\n",
    "with tf.compat.v1.Session() as sess:\n",
    "    temps = mean.numpy()\n",
    "    i = 1\n",
    "    for temp in temps:\n",
    "        print ('day ', i, 'mean temperature = ', temp)\n",
    "        i += 1"
   ]
  }
 ],
 "metadata": {
  "kernelspec": {
   "display_name": "Python 3",
   "language": "python",
   "name": "python3"
  },
  "language_info": {
   "codemirror_mode": {
    "name": "ipython",
    "version": 3
   },
   "file_extension": ".py",
   "mimetype": "text/x-python",
   "name": "python",
   "nbconvert_exporter": "python",
   "pygments_lexer": "ipython3",
   "version": "3.6.8"
  }
 },
 "nbformat": 4,
 "nbformat_minor": 5
}
