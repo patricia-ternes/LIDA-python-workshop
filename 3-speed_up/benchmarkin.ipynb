{
 "cells": [
  {
   "cell_type": "markdown",
   "metadata": {
    "slideshow": {
     "slide_type": "-"
    }
   },
   "source": [
    "# Code sample"
   ]
  },
  {
   "cell_type": "code",
   "execution_count": 1,
   "metadata": {
    "slideshow": {
     "slide_type": "-"
    }
   },
   "outputs": [],
   "source": [
    "def primes(n):\n",
    "    if n==2:\n",
    "        return [2]\n",
    "    elif n<2:\n",
    "        return []\n",
    "\n",
    "    s=range(3,n+1,2)\n",
    "    mroot = n ** 0.5\n",
    "    half=(n+1)//2-1\n",
    "    i=0\n",
    "    m=3\n",
    "\n",
    "    while m <= mroot:\n",
    "        if s[i]:\n",
    "            j=(m*m-3)/2\n",
    "            s[j]=0\n",
    "        while j<half:\n",
    "            s[j]=0\n",
    "            j+=m\n",
    "        i=i+1\n",
    "        m=2*i+3\n",
    "    x = [2]\n",
    "    for y in s:\n",
    "        if y:\n",
    "            x.append(y)\n",
    "    return x"
   ]
  },
  {
   "cell_type": "code",
   "execution_count": 2,
   "metadata": {},
   "outputs": [
    {
     "ename": "TypeError",
     "evalue": "'range' object does not support item assignment",
     "output_type": "error",
     "traceback": [
      "\u001b[0;31m---------------------------------------------------------------------------\u001b[0m",
      "\u001b[0;31mTypeError\u001b[0m                                 Traceback (most recent call last)",
      "\u001b[0;32m<ipython-input-2-7b1ca9bb38b8>\u001b[0m in \u001b[0;36m<module>\u001b[0;34m\u001b[0m\n\u001b[0;32m----> 1\u001b[0;31m \u001b[0mprint\u001b[0m\u001b[0;34m(\u001b[0m\u001b[0mprimes\u001b[0m\u001b[0;34m(\u001b[0m\u001b[0;36m100\u001b[0m\u001b[0;34m)\u001b[0m\u001b[0;34m)\u001b[0m\u001b[0;34m\u001b[0m\u001b[0;34m\u001b[0m\u001b[0m\n\u001b[0m",
      "\u001b[0;32m<ipython-input-1-28d446d628f7>\u001b[0m in \u001b[0;36mprimes\u001b[0;34m(n)\u001b[0m\n\u001b[1;32m     14\u001b[0m         \u001b[0;32mif\u001b[0m \u001b[0ms\u001b[0m\u001b[0;34m[\u001b[0m\u001b[0mi\u001b[0m\u001b[0;34m]\u001b[0m\u001b[0;34m:\u001b[0m\u001b[0;34m\u001b[0m\u001b[0;34m\u001b[0m\u001b[0m\n\u001b[1;32m     15\u001b[0m             \u001b[0mj\u001b[0m\u001b[0;34m=\u001b[0m\u001b[0;34m(\u001b[0m\u001b[0mm\u001b[0m\u001b[0;34m*\u001b[0m\u001b[0mm\u001b[0m\u001b[0;34m-\u001b[0m\u001b[0;36m3\u001b[0m\u001b[0;34m)\u001b[0m\u001b[0;34m/\u001b[0m\u001b[0;36m2\u001b[0m\u001b[0;34m\u001b[0m\u001b[0;34m\u001b[0m\u001b[0m\n\u001b[0;32m---> 16\u001b[0;31m             \u001b[0ms\u001b[0m\u001b[0;34m[\u001b[0m\u001b[0mj\u001b[0m\u001b[0;34m]\u001b[0m\u001b[0;34m=\u001b[0m\u001b[0;36m0\u001b[0m\u001b[0;34m\u001b[0m\u001b[0;34m\u001b[0m\u001b[0m\n\u001b[0m\u001b[1;32m     17\u001b[0m         \u001b[0;32mwhile\u001b[0m \u001b[0mj\u001b[0m\u001b[0;34m<\u001b[0m\u001b[0mhalf\u001b[0m\u001b[0;34m:\u001b[0m\u001b[0;34m\u001b[0m\u001b[0;34m\u001b[0m\u001b[0m\n\u001b[1;32m     18\u001b[0m             \u001b[0ms\u001b[0m\u001b[0;34m[\u001b[0m\u001b[0mj\u001b[0m\u001b[0;34m]\u001b[0m\u001b[0;34m=\u001b[0m\u001b[0;36m0\u001b[0m\u001b[0;34m\u001b[0m\u001b[0;34m\u001b[0m\u001b[0m\n",
      "\u001b[0;31mTypeError\u001b[0m: 'range' object does not support item assignment"
     ]
    }
   ],
   "source": [
    "print(primes(100))"
   ]
  },
  {
   "cell_type": "markdown",
   "metadata": {
    "slideshow": {
     "slide_type": "slide"
    }
   },
   "source": [
    "## Python version"
   ]
  },
  {
   "cell_type": "code",
   "execution_count": 3,
   "metadata": {},
   "outputs": [],
   "source": [
    "def primes1(n):\n",
    "    if n==2:\n",
    "        return [2]\n",
    "    elif n<2:\n",
    "        return []\n",
    "\n",
    "    s=[i for i in range(3,n+1,2)]  # python 3 syntax\n",
    "    mroot = n ** 0.5\n",
    "    half=(n+1)//2-1\n",
    "    i=0\n",
    "    m=3\n",
    "\n",
    "    while m <= mroot:\n",
    "        if s[i]:\n",
    "            j=(m*m-3)//2  # python 3 syntax\n",
    "            s[j]=0\n",
    "        while j<half:\n",
    "            s[j]=0\n",
    "            j+=m\n",
    "        i=i+1\n",
    "        m=2*i+3\n",
    "    x = [2]\n",
    "    for y in s:\n",
    "        if y:\n",
    "            x.append(y)\n",
    "    return x"
   ]
  },
  {
   "cell_type": "code",
   "execution_count": 4,
   "metadata": {},
   "outputs": [
    {
     "name": "stdout",
     "output_type": "stream",
     "text": [
      "[2, 3, 5, 7, 11, 13, 17, 19, 23, 29, 31, 37, 41, 43, 47, 53, 59, 61, 67, 71, 73, 79, 83, 89, 97]\n"
     ]
    }
   ],
   "source": [
    "print(primes1(100))"
   ]
  },
  {
   "cell_type": "markdown",
   "metadata": {},
   "source": [
    "## Library function and dot operation"
   ]
  },
  {
   "cell_type": "code",
   "execution_count": 5,
   "metadata": {},
   "outputs": [],
   "source": [
    "from math import sqrt  # import the function\n",
    "\n",
    "def primes2(n):\n",
    "    if n==2:\n",
    "        return [2]\n",
    "    elif n<2:\n",
    "        return []\n",
    "\n",
    "    s=[i for i in range(3,n+1,2)]\n",
    "    mroot = sqrt(n)  # add the library function\n",
    "    half=(n+1)//2-1\n",
    "    i=0\n",
    "    m=3\n",
    "\n",
    "    while m <= mroot:\n",
    "        if s[i]:\n",
    "            j=(m*m-3)//2\n",
    "            s[j]=0\n",
    "        while j<half:\n",
    "            s[j]=0\n",
    "            j+=m\n",
    "        i=i+1\n",
    "        m=2*i+3\n",
    "    x = [2]\n",
    "    for y in s:\n",
    "        if y:\n",
    "            x.append(y)\n",
    "    return x"
   ]
  },
  {
   "cell_type": "code",
   "execution_count": 6,
   "metadata": {},
   "outputs": [
    {
     "name": "stdout",
     "output_type": "stream",
     "text": [
      "[2, 3, 5, 7, 11, 13, 17, 19, 23, 29, 31, 37, 41, 43, 47, 53, 59, 61, 67, 71, 73, 79, 83, 89, 97]\n"
     ]
    }
   ],
   "source": [
    "print(primes2(100))"
   ]
  },
  {
   "cell_type": "markdown",
   "metadata": {},
   "source": [
    "## List Comprehension"
   ]
  },
  {
   "cell_type": "code",
   "execution_count": 7,
   "metadata": {},
   "outputs": [],
   "source": [
    "from math import sqrt\n",
    "\n",
    "def primes3(n):\n",
    "    if n==2:\n",
    "        return [2]\n",
    "    elif n<2:\n",
    "        return []\n",
    "\n",
    "    s=[i for i in range(3,n+1,2)]  # list comprehension syntax\n",
    "    mroot = sqrt(n)\n",
    "    half=(n+1)//2-1\n",
    "    i=0\n",
    "    m=3\n",
    "\n",
    "    while m <= mroot:\n",
    "        if s[i]:\n",
    "            j=(m*m-3)//2\n",
    "            s[j]=0\n",
    "        while j<half:\n",
    "            s[j]=0\n",
    "            j+=m\n",
    "        i=i+1\n",
    "        m=2*i+3\n",
    "    return [2] + [x for x in s if x]  # list comprehension syntax"
   ]
  },
  {
   "cell_type": "code",
   "execution_count": 8,
   "metadata": {},
   "outputs": [
    {
     "name": "stdout",
     "output_type": "stream",
     "text": [
      "[2, 3, 5, 7, 11, 13, 17, 19, 23, 29, 31, 37, 41, 43, 47, 53, 59, 61, 67, 71, 73, 79, 83, 89, 97]\n"
     ]
    }
   ],
   "source": [
    "print(primes3(100))"
   ]
  },
  {
   "cell_type": "markdown",
   "metadata": {},
   "source": [
    "## Data Structure"
   ]
  },
  {
   "cell_type": "code",
   "execution_count": 9,
   "metadata": {},
   "outputs": [],
   "source": [
    "from numpy import arange\n",
    "from math import sqrt\n",
    "\n",
    "def primes4(n):\n",
    "    if n==2:\n",
    "        return [2]\n",
    "    elif n<2:\n",
    "        return []\n",
    "\n",
    "    s=arange(3,n+1,2)  # numpy array\n",
    "    mroot = sqrt(n)\n",
    "    half=(n+1)//2-1\n",
    "    i=0\n",
    "    m=3\n",
    "\n",
    "    while m <= mroot:\n",
    "        if s[i]:\n",
    "            j=(m*m-3)//2\n",
    "            s[j]=0\n",
    "        while j<half:\n",
    "            s[j]=0\n",
    "            j+=m\n",
    "        i=i+1\n",
    "        m=2*i+3\n",
    "    return [2] + [x for x in s if x]"
   ]
  },
  {
   "cell_type": "code",
   "execution_count": 10,
   "metadata": {},
   "outputs": [
    {
     "name": "stdout",
     "output_type": "stream",
     "text": [
      "[2, 3, 5, 7, 11, 13, 17, 19, 23, 29, 31, 37, 41, 43, 47, 53, 59, 61, 67, 71, 73, 79, 83, 89, 97]\n"
     ]
    }
   ],
   "source": [
    "print(primes4(100))"
   ]
  },
  {
   "cell_type": "markdown",
   "metadata": {
    "slideshow": {
     "slide_type": "slide"
    }
   },
   "source": [
    "# Benchmarking"
   ]
  },
  {
   "cell_type": "markdown",
   "metadata": {},
   "source": [
    "### Creating a benchmarking function"
   ]
  },
  {
   "cell_type": "code",
   "execution_count": 11,
   "metadata": {
    "slideshow": {
     "slide_type": "-"
    }
   },
   "outputs": [],
   "source": [
    "from time import time\n",
    "\n",
    "def benchmarking(function, n_repeat):\n",
    "    ti = time()\n",
    "    for _ in range (n_repeat):\n",
    "        function\n",
    "        \n",
    "    return (time() - ti)"
   ]
  },
  {
   "cell_type": "code",
   "execution_count": 12,
   "metadata": {
    "slideshow": {
     "slide_type": "-"
    }
   },
   "outputs": [
    {
     "name": "stdout",
     "output_type": "stream",
     "text": [
      "1.99668288230896\n"
     ]
    }
   ],
   "source": [
    "print(benchmarking(primes1(100), 100000000))  # using python 3"
   ]
  },
  {
   "cell_type": "code",
   "execution_count": 15,
   "metadata": {
    "slideshow": {
     "slide_type": "-"
    }
   },
   "outputs": [
    {
     "name": "stdout",
     "output_type": "stream",
     "text": [
      "1.9916484355926514\n"
     ]
    }
   ],
   "source": [
    "print(benchmarking(primes2(100), 100000000))  # using library function"
   ]
  },
  {
   "cell_type": "code",
   "execution_count": 16,
   "metadata": {
    "slideshow": {
     "slide_type": "-"
    }
   },
   "outputs": [
    {
     "name": "stdout",
     "output_type": "stream",
     "text": [
      "1.9629108905792236\n"
     ]
    }
   ],
   "source": [
    "print(benchmarking(primes3(100), 100000000))  # using list comprehension syntax"
   ]
  },
  {
   "cell_type": "code",
   "execution_count": 18,
   "metadata": {
    "slideshow": {
     "slide_type": "-"
    }
   },
   "outputs": [
    {
     "name": "stdout",
     "output_type": "stream",
     "text": [
      "1.9116380214691162\n"
     ]
    }
   ],
   "source": [
    "print(benchmarking(primes4(100), 100000000))  # using numpy array"
   ]
  },
  {
   "cell_type": "markdown",
   "metadata": {},
   "source": [
    "### Module: [timeit](https://docs.python.org/3/library/timeit.html)\n",
    "\n",
    "Using IPython magic commands"
   ]
  },
  {
   "cell_type": "code",
   "execution_count": 19,
   "metadata": {},
   "outputs": [
    {
     "name": "stdout",
     "output_type": "stream",
     "text": [
      "5.03 µs ± 57.6 ns per loop (mean ± std. dev. of 7 runs, 100000 loops each)\n"
     ]
    }
   ],
   "source": [
    "%timeit primes1(100)  # using python 3"
   ]
  },
  {
   "cell_type": "code",
   "execution_count": 23,
   "metadata": {},
   "outputs": [
    {
     "name": "stdout",
     "output_type": "stream",
     "text": [
      "4.94 µs ± 26.6 ns per loop (mean ± std. dev. of 7 runs, 100000 loops each)\n"
     ]
    }
   ],
   "source": [
    "%timeit primes2(100)  # using library function"
   ]
  },
  {
   "cell_type": "code",
   "execution_count": 21,
   "metadata": {},
   "outputs": [
    {
     "name": "stdout",
     "output_type": "stream",
     "text": [
      "4.45 µs ± 56.9 ns per loop (mean ± std. dev. of 7 runs, 100000 loops each)\n"
     ]
    }
   ],
   "source": [
    "%timeit primes3(100)  # using list comprehension syntax"
   ]
  },
  {
   "cell_type": "code",
   "execution_count": 22,
   "metadata": {},
   "outputs": [
    {
     "name": "stdout",
     "output_type": "stream",
     "text": [
      "9.46 µs ± 485 ns per loop (mean ± std. dev. of 7 runs, 100000 loops each)\n"
     ]
    }
   ],
   "source": [
    "%timeit primes4(100)  # using numpy array"
   ]
  },
  {
   "cell_type": "markdown",
   "metadata": {},
   "source": [
    "# CPU profiling\n",
    "\n",
    "Using IPython magic commands"
   ]
  },
  {
   "cell_type": "code",
   "execution_count": 24,
   "metadata": {
    "slideshow": {
     "slide_type": "-"
    }
   },
   "outputs": [],
   "source": [
    "%load_ext line_profiler"
   ]
  },
  {
   "cell_type": "code",
   "execution_count": 25,
   "metadata": {},
   "outputs": [],
   "source": [
    "%lprun -f primes1 primes1(100)  # using python 3"
   ]
  },
  {
   "cell_type": "code",
   "execution_count": 26,
   "metadata": {},
   "outputs": [],
   "source": [
    "%lprun -f primes4 primes4(100)  # using numpy array"
   ]
  },
  {
   "cell_type": "markdown",
   "metadata": {},
   "source": [
    "## Improving the code?\n",
    "\n",
    "From here it is an iterative process. "
   ]
  },
  {
   "cell_type": "code",
   "execution_count": 27,
   "metadata": {},
   "outputs": [],
   "source": [
    "from math import sqrt\n",
    "\n",
    "def primes5(n):\n",
    "    if n==2:\n",
    "        return [2]\n",
    "    elif n<2:\n",
    "        return []\n",
    "\n",
    "    s=list(range(3,n+1,2))  # list\n",
    "    mroot = sqrt(n)\n",
    "    half=(n+1)//2-1\n",
    "    i=0\n",
    "    m=3\n",
    "\n",
    "    while m <= mroot:\n",
    "        if s[i]:\n",
    "            j=(m*m-3)//2\n",
    "            s[j]=0\n",
    "        while j<half:\n",
    "            s[j]=0\n",
    "            j+=m\n",
    "        i=i+1\n",
    "        m=2*i+3\n",
    "    return [2] + [x for x in s if x]"
   ]
  },
  {
   "cell_type": "code",
   "execution_count": 28,
   "metadata": {},
   "outputs": [
    {
     "name": "stdout",
     "output_type": "stream",
     "text": [
      "[2, 3, 5, 7, 11, 13, 17, 19, 23, 29, 31, 37, 41, 43, 47, 53, 59, 61, 67, 71, 73, 79, 83, 89, 97]\n"
     ]
    }
   ],
   "source": [
    "print(primes5(100))"
   ]
  },
  {
   "cell_type": "code",
   "execution_count": 29,
   "metadata": {},
   "outputs": [
    {
     "name": "stdout",
     "output_type": "stream",
     "text": [
      "4.05 µs ± 89.3 ns per loop (mean ± std. dev. of 7 runs, 100000 loops each)\n"
     ]
    }
   ],
   "source": [
    "%timeit primes5(100)  # using library function"
   ]
  },
  {
   "cell_type": "markdown",
   "metadata": {},
   "source": [
    "# Native-speed code\n",
    "\n",
    "* [Numba](http://numba.pydata.org/)\n",
    "* [Cython](https://cython.org/)\n",
    "* [F2PY](https://numpy.org/doc/stable/f2py/)\n",
    "\n",
    "## Numba"
   ]
  },
  {
   "cell_type": "code",
   "execution_count": 30,
   "metadata": {},
   "outputs": [],
   "source": [
    "from math import sqrt\n",
    "from numba import jit\n",
    "\n",
    "@jit\n",
    "def primes6(n):\n",
    "    if n==2:\n",
    "        return [2]\n",
    "    elif n<2:\n",
    "        return [0]  # all returns need have the same tipe. Zero is not rigth!\n",
    "\n",
    "    s=list(range(3,n+1,2))  # list\n",
    "    mroot = sqrt(n)\n",
    "    half=(n+1)//2-1\n",
    "    i=0\n",
    "    m=3\n",
    "\n",
    "    while m <= mroot:\n",
    "        if s[i]:\n",
    "            j=(m*m-3)//2\n",
    "            s[j]=0\n",
    "        while j<half:\n",
    "            s[j]=0\n",
    "            j+=m\n",
    "        i=i+1\n",
    "        m=2*i+3\n",
    "    return [2] + [x for x in s if x]"
   ]
  },
  {
   "cell_type": "code",
   "execution_count": 31,
   "metadata": {},
   "outputs": [
    {
     "name": "stdout",
     "output_type": "stream",
     "text": [
      "[2, 3, 5, 7, 11, 13, 17, 19, 23, 29, 31, 37, 41, 43, 47, 53, 59, 61, 67, 71, 73, 79, 83, 89, 97]\n"
     ]
    }
   ],
   "source": [
    "print(primes6(100))"
   ]
  },
  {
   "cell_type": "code",
   "execution_count": 32,
   "metadata": {},
   "outputs": [
    {
     "name": "stdout",
     "output_type": "stream",
     "text": [
      "982 ns ± 20.6 ns per loop (mean ± std. dev. of 7 runs, 1000000 loops each)\n"
     ]
    }
   ],
   "source": [
    "%timeit primes6(100)  # using library function"
   ]
  },
  {
   "cell_type": "markdown",
   "metadata": {},
   "source": [
    "# Parallel running\n",
    "\n",
    "[Multiprocessing](https://docs.python.org/3/library/multiprocessing.html)"
   ]
  },
  {
   "cell_type": "code",
   "execution_count": 33,
   "metadata": {},
   "outputs": [],
   "source": [
    "from sympy import isprime \n",
    "\n",
    "def prime(i):\n",
    "    if (isprime(i)):\n",
    "        return(i)"
   ]
  },
  {
   "cell_type": "code",
   "execution_count": 34,
   "metadata": {},
   "outputs": [],
   "source": [
    "from multiprocessing import Pool\n",
    "\n",
    "def multi_primes(N):\n",
    "    pool = Pool(processes=8)\n",
    "    input_number = [i for i in range(N)]\n",
    "    x = pool.map(prime, input_number)\n",
    "    return [i for i in x if i!=None]"
   ]
  },
  {
   "cell_type": "code",
   "execution_count": 35,
   "metadata": {},
   "outputs": [
    {
     "name": "stdout",
     "output_type": "stream",
     "text": [
      "[2, 3, 5, 7, 11, 13, 17, 19, 23, 29, 31, 37, 41, 43, 47, 53, 59, 61, 67, 71, 73, 79, 83, 89, 97]\n"
     ]
    }
   ],
   "source": [
    "print(multi_primes(100))"
   ]
  },
  {
   "cell_type": "code",
   "execution_count": 36,
   "metadata": {},
   "outputs": [
    {
     "data": {
      "text/plain": [
       "2.1457672119140625e-06"
      ]
     },
     "execution_count": 36,
     "metadata": {},
     "output_type": "execute_result"
    }
   ],
   "source": [
    "benchmarking(multi_primes(5000000),1)"
   ]
  },
  {
   "cell_type": "code",
   "execution_count": 37,
   "metadata": {},
   "outputs": [
    {
     "data": {
      "text/plain": [
       "2.384185791015625e-06"
      ]
     },
     "execution_count": 37,
     "metadata": {},
     "output_type": "execute_result"
    }
   ],
   "source": [
    "benchmarking(primes6(5000000),1)"
   ]
  }
 ],
 "metadata": {
  "interpreter": {
   "hash": "916dbcbb3f70747c44a77c7bcd40155683ae19c65e1c03b4aa3499c5328201f1"
  },
  "kernelspec": {
   "display_name": "Python 3",
   "language": "python",
   "name": "python3"
  },
  "language_info": {
   "codemirror_mode": {
    "name": "ipython",
    "version": 3
   },
   "file_extension": ".py",
   "mimetype": "text/x-python",
   "name": "python",
   "nbconvert_exporter": "python",
   "pygments_lexer": "ipython3",
   "version": "3.6.8"
  }
 },
 "nbformat": 4,
 "nbformat_minor": 2
}
