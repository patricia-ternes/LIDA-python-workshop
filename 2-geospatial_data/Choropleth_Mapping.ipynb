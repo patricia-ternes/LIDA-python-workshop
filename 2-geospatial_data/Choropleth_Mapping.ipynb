{
 "cells": [
  {
   "cell_type": "code",
   "execution_count": 2,
   "metadata": {
    "tags": [
     "remove-cell"
    ]
   },
   "outputs": [],
   "source": [
    "import warnings\n",
    "warnings.filterwarnings(\"ignore\")"
   ]
  },
  {
   "cell_type": "markdown",
   "metadata": {},
   "source": [
    "# Choropleth Mapping\n",
    "\n"
   ]
  },
  {
   "cell_type": "markdown",
   "metadata": {},
   "source": [
    "## Principles\n",
    "\n",
    "\n",
    "Choropleths are geographic maps that display statistical information encoded \n",
    "in a colour palette. Choropleth maps play a prominent role in geographic data science as they allow\n",
    "us to display non-geographic attributes or variables on a geographic map. The\n",
    "word choropleth stems from the root \"choro\", meaning \"region\". As such\n",
    "choropleth maps represent data at the region level, and are appropriate for\n",
    "areal unit data where each observation combines a value of an attribute and a\n",
    "geometric figure, usually a polygon. Choropleth maps derive from an earlier era\n",
    "where cartographers faced technological constraints that precluded the use of\n",
    "unclassed maps where each unique attribute value could be represented by a\n",
    "distinct symbol or colour. Instead, attribute values were grouped into a smaller\n",
    "number of classes, usually not more than 12. Each class was associated with a\n",
    "unique symbol that was in turn applied to all observations with attribute values\n",
    "falling in the class.\n",
    "\n",
    "Although today these technological constraints are no longer binding, and\n",
    "unclassed mapping is feasible, there are still good reasons for adopting a\n",
    "classed approach. Chief among these is to reduce the cognitive load involved in\n",
    "parsing the complexity of an unclassed map. A choropleth map reduces this\n",
    "complexity by drawing upon statistical and visualization theory to provide an\n",
    "effective representation of the spatial distribution of the attribute values\n",
    "across the areal units. \n",
    "\n",
    "The effectiveness of a choropleth map depends largely on the purpose of the map.\n",
    "Which message you want to communicate will shape what options are preferable\n",
    "over others. In this chapter we consider three dimensions over which putting\n",
    "intentional thinking will pay off. Choropleth mapping thus revolves around: first,\n",
    "selecting a number of groups smaller than $n$ into which all values in our dataset \n",
    "will be mapped to; second, identifying a classification algorithm that executes such\n",
    "mapping, following some principle that is aligned with our interest; and third, once\n",
    "we know into how many groups we are going to reduce all values in our data, which\n",
    "colour is assigned to each group to ensure it encodes the information we want to reflect.\n",
    "In broad terms, the classification scheme\n",
    "defines the number of classes as well as the rules for assignment; while a good\n",
    "symbolization conveys information about the value differentiation across\n",
    "classes.\n",
    "\n",
    "In this chapter we first discuss the approaches used to classify attribute\n",
    "values. This is followed by a (brief) overview of colour theory and the implications of\n",
    "different colour schemes for effective map design. We combine theory and practice\n",
    "by exploring how these concepts are implemented in different Python packages,\n",
    "including `geopandas`, and `PySAL`.\n",
    "\n",
    "\n"
   ]
  },
  {
   "cell_type": "code",
   "execution_count": 3,
   "metadata": {},
   "outputs": [],
   "source": [
    "import seaborn\n",
    "import pandas\n",
    "import geopandas\n",
    "import pysal\n",
    "import numpy\n",
    "import matplotlib.pyplot as plt"
   ]
  },
  {
   "cell_type": "markdown",
   "metadata": {},
   "source": [
    "## Quantitative data classification \n",
    "\n",
    "Selecting the number of groups into which we want to assign the values in our data,\n",
    "and how each value is assigned into a group can be seen as a classification problem.\n",
    "Data classification considers the problem of \n",
    "partitioning the attribute values into mutually exclusive and exhaustive\n",
    "groups. The precise manner in which this is done will be a function of the\n",
    "measurement scale of the attribute in question. For quantitative attributes\n",
    "(ordinal, interval, ratio scales) the classes will have an explicit ordering.\n",
    "More formally, the classification problem is to define class boundaries such\n",
    "that\n",
    "\n",
    "$$\n",
    "c_j < y_i \\le  c_{j+1} \\ \\forall y_i \\in C_{j}\n",
    "$$\n",
    "\n",
    "where $y_i$ is the\n",
    "value of the attribute for spatial location $i$, $j$ is a class index, and $c_j$\n",
    "represents the lower bound of interval $j$. Different classification schemes obtain from their definition of the class\n",
    "boundaries. The choice of the classification scheme should take into\n",
    "consideration the statistical distribution of the attribute values as well\n",
    "as the goal of our map (e.g., highlight outliers Vs accurately depict the distribution of values).\n",
    "\n",
    "To illustrate these considerations, we will examine regional income data for the\n",
    "32 Mexican states used in the paper by {cite}`Rey_2010`. The variable we focus on is per capita gross domestic product\n",
    "for 1940 (`PCGDP1940`):"
   ]
  },
  {
   "cell_type": "code",
   "execution_count": 4,
   "metadata": {
    "tags": []
   },
   "outputs": [
    {
     "data": {
      "text/html": [
       "<div>\n",
       "<style scoped>\n",
       "    .dataframe tbody tr th:only-of-type {\n",
       "        vertical-align: middle;\n",
       "    }\n",
       "\n",
       "    .dataframe tbody tr th {\n",
       "        vertical-align: top;\n",
       "    }\n",
       "\n",
       "    .dataframe thead th {\n",
       "        text-align: right;\n",
       "    }\n",
       "</style>\n",
       "<table border=\"1\" class=\"dataframe\">\n",
       "  <thead>\n",
       "    <tr style=\"text-align: right;\">\n",
       "      <th></th>\n",
       "      <th>NAME</th>\n",
       "      <th>PCGDP1940</th>\n",
       "    </tr>\n",
       "  </thead>\n",
       "  <tbody>\n",
       "    <tr>\n",
       "      <th>0</th>\n",
       "      <td>Baja California Norte</td>\n",
       "      <td>22361.0</td>\n",
       "    </tr>\n",
       "    <tr>\n",
       "      <th>1</th>\n",
       "      <td>Baja California Sur</td>\n",
       "      <td>9573.0</td>\n",
       "    </tr>\n",
       "    <tr>\n",
       "      <th>2</th>\n",
       "      <td>Nayarit</td>\n",
       "      <td>4836.0</td>\n",
       "    </tr>\n",
       "    <tr>\n",
       "      <th>3</th>\n",
       "      <td>Jalisco</td>\n",
       "      <td>5309.0</td>\n",
       "    </tr>\n",
       "    <tr>\n",
       "      <th>4</th>\n",
       "      <td>Aguascalientes</td>\n",
       "      <td>10384.0</td>\n",
       "    </tr>\n",
       "  </tbody>\n",
       "</table>\n",
       "</div>"
      ],
      "text/plain": [
       "                    NAME  PCGDP1940\n",
       "0  Baja California Norte    22361.0\n",
       "1    Baja California Sur     9573.0\n",
       "2                Nayarit     4836.0\n",
       "3                Jalisco     5309.0\n",
       "4         Aguascalientes    10384.0"
      ]
     },
     "execution_count": 4,
     "metadata": {},
     "output_type": "execute_result"
    }
   ],
   "source": [
    "mx = geopandas.read_file(\"data/mexico/mexicojoin.shp\")\n",
    "mx[['NAME', 'PCGDP1940']].head()"
   ]
  },
  {
   "cell_type": "markdown",
   "metadata": {},
   "source": [
    "Which displays the following statistical distribution:"
   ]
  },
  {
   "cell_type": "code",
   "execution_count": 5,
   "metadata": {
    "lines_to_next_cell": 2
   },
   "outputs": [
    {
     "data": {
      "text/plain": [
       "count       32.000000\n",
       "mean      7230.531250\n",
       "std       5204.952883\n",
       "min       1892.000000\n",
       "25%       3701.750000\n",
       "50%       5256.000000\n",
       "75%       8701.750000\n",
       "max      22361.000000\n",
       "Name: PCGDP1940, dtype: float64"
      ]
     },
     "execution_count": 5,
     "metadata": {},
     "output_type": "execute_result"
    }
   ],
   "source": [
    "mx['PCGDP1940'].describe()"
   ]
  },
  {
   "cell_type": "code",
   "execution_count": 6,
   "metadata": {
    "caption": "Distribution of per capita GDP across 1940s Mexican States",
    "tags": []
   },
   "outputs": [
    {
     "data": {
      "image/png": "[encoded data removed]",
      "text/plain": [
       "<Figure size 432x288 with 1 Axes>"
      ]
     },
     "metadata": {
      "needs_background": "light"
     },
     "output_type": "display_data"
    }
   ],
   "source": [
    "# Plot histogram\n",
    "ax = seaborn.histplot(mx['PCGDP1940'], bins=5)\n",
    "# Add rug on horizontal axis\n",
    "seaborn.rugplot(\n",
    "    mx['PCGDP1940'], height=0.05, color='red', ax=ax\n",
    ");"
   ]
  },
  {
   "cell_type": "markdown",
   "metadata": {},
   "source": [
    "As we can see, the distribution is positively skewed as in common in regional income studies. In other words,\n",
    "the mean exceeds the median (`50%`, in the table below), leading the to fat right tail in the figure. As\n",
    "we shall see, this skewness will have implications for the choice of choropleth\n",
    "classification scheme."
   ]
  },
  {
   "cell_type": "markdown",
   "metadata": {},
   "source": [
    "For quantitative attributes we first sort the data by their value,\n",
    "such that $x_0 \\le x_2 \\ldots \\le x_{n-1}$. For a prespecified number of classes\n",
    "$k$, the classification problem boils down to selecting $k-1$ break points\n",
    "along the sorted values that separate the values into mutually exclusive and\n",
    "exhaustive groups.\n",
    "\n",
    "In fact, the determination of the histogram above can\n",
    "be viewed as one approach to this selection.\n",
    "The method `seaborn.histplot` uses the matplotlib `hist`\n",
    "function under the hood to determine the class boundaries and the counts of\n",
    "observations in each class. In the figure, we have five classes which can be\n",
    "extracted with an explicit call to the `hist` function:"
   ]
  },
  {
   "cell_type": "code",
   "execution_count": 7,
   "metadata": {},
   "outputs": [],
   "source": [
    "counts, bins, patches = ax.hist(mx['PCGDP1940'], bins=5)"
   ]
  },
  {
   "cell_type": "markdown",
   "metadata": {},
   "source": [
    "The `counts` object captures how many observations each category in the classification has:"
   ]
  },
  {
   "cell_type": "code",
   "execution_count": 8,
   "metadata": {},
   "outputs": [
    {
     "data": {
      "text/plain": [
       "array([17.,  9.,  3.,  1.,  2.])"
      ]
     },
     "execution_count": 8,
     "metadata": {},
     "output_type": "execute_result"
    }
   ],
   "source": [
    "counts"
   ]
  },
  {
   "cell_type": "markdown",
   "metadata": {},
   "source": [
    "The `bin` object stores these break points we are interested in when considering classification schemes (the `patches` object can be ignored in this context, as it stores the geometries of the histogram plot):"
   ]
  },
  {
   "cell_type": "code",
   "execution_count": 9,
   "metadata": {},
   "outputs": [
    {
     "data": {
      "text/plain": [
       "array([ 1892. ,  5985.8, 10079.6, 14173.4, 18267.2, 22361. ])"
      ]
     },
     "execution_count": 9,
     "metadata": {},
     "output_type": "execute_result"
    }
   ],
   "source": [
    "bins"
   ]
  },
  {
   "cell_type": "markdown",
   "metadata": {},
   "source": [
    "This yields five bins, with the first having a lower bound of 1892 and an upper\n",
    "bound of 5985.8 which contains 17 observations. The determination of the\n",
    "interval width ($w$) and the number of bins in `seaborn` is based on the Freedman-Diaconis rule {cite}`freedman1981histogram`:\n",
    "\n",
    "$$\n",
    "w = 2 * IQR * n^{-1/3}\n",
    "$$\n",
    "\n",
    "where $IQR$ is the inter quartile\n",
    "range of the attribute values. Given $w$, the number of bins ($k$) is:\n",
    "\n",
    "$$k = \\dfrac{(max-min)}{w}$$\n",
    "\n",
    "The choropleth literature has many alternative classification algorithms that follow criteria that can be of interest in different contexts, as they focus on different priorities. Below, we will focus on a few of them. To compute the classification, we will rely on the `mapclassify` package of the PySAL family:"
   ]
  },
  {
   "cell_type": "code",
   "execution_count": 10,
   "metadata": {},
   "outputs": [],
   "source": [
    "import mapclassify"
   ]
  },
  {
   "cell_type": "markdown",
   "metadata": {},
   "source": [
    "### Equal Intervals\n",
    "\n",
    "The Freedman-Diaconis approach provides a rule to determine the width and, in\n",
    "turn, the number of bins for the classification. This is a special case of a\n",
    "more general classifier known as \"equal intervals\", where each of the bins has\n",
    "the same width in the value space. For a given value of $k$, equal intervals\n",
    "classification splits the range of the attribute space into $k$ equal length\n",
    "intervals, with each interval having a width $w = \\frac{x_0 - x_{n-1}}{k}$. Thus\n",
    "the maximum class is $(x_{n-1}-w, x_{n-1}]$ and the first class is $(-\\infty,\n",
    "x_{n-1} - (k-1)w]$.\n",
    "\n",
    "Equal intervals have the dual advantages of simplicity and ease of\n",
    "interpretation. However, this rule only considers the extreme values of the\n",
    "distribution and, in some cases, this can result in one or more classes being\n",
    "sparse. This is clearly the case in our income dataset, as the majority of the\n",
    "values are placed into the first two classes leaving the last three classes\n",
    "rather sparse:"
   ]
  },
  {
   "cell_type": "code",
   "execution_count": 11,
   "metadata": {},
   "outputs": [
    {
     "data": {
      "text/plain": [
       "EqualInterval               \n",
       "\n",
       "      Interval         Count\n",
       "----------------------------\n",
       "[ 1892.00,  5985.80] |    17\n",
       "( 5985.80, 10079.60] |     9\n",
       "(10079.60, 14173.40] |     3\n",
       "(14173.40, 18267.20] |     1\n",
       "(18267.20, 22361.00] |     2"
      ]
     },
     "execution_count": 11,
     "metadata": {},
     "output_type": "execute_result"
    }
   ],
   "source": [
    "ei5 = mapclassify.EqualInterval(mx['PCGDP1940'], k=5)\n",
    "ei5"
   ]
  },
  {
   "cell_type": "markdown",
   "metadata": {},
   "source": [
    " Note that each of the intervals, however, has equal width of\n",
    "$w=4093.8$. It should also be noted that the first class is closed on the lower bound,\n",
    "in contrast to the general approach defined above."
   ]
  },
  {
   "cell_type": "markdown",
   "metadata": {},
   "source": [
    "### Quantiles\n",
    "To avoid the potential problem of sparse classes, the quantiles of\n",
    "the distribution can be used to identify the class boundaries. Indeed, each\n",
    "class will have approximately $\\mid\\frac{n}{k}\\mid$ observations using the quantile\n",
    "classifier. If $k=5$ the sample quintiles are used to define the upper limits of\n",
    "each class resulting in the following classification:"
   ]
  },
  {
   "cell_type": "code",
   "execution_count": 12,
   "metadata": {},
   "outputs": [
    {
     "data": {
      "text/plain": [
       "Quantiles                   \n",
       "\n",
       "      Interval         Count\n",
       "----------------------------\n",
       "[ 1892.00,  3576.20] |     7\n",
       "( 3576.20,  4582.80] |     6\n",
       "( 4582.80,  6925.20] |     6\n",
       "( 6925.20,  9473.00] |     6\n",
       "( 9473.00, 22361.00] |     7"
      ]
     },
     "execution_count": 12,
     "metadata": {},
     "output_type": "execute_result"
    }
   ],
   "source": [
    "q5 = mapclassify.Quantiles(mx.PCGDP1940, k=5)\n",
    "q5"
   ]
  },
  {
   "cell_type": "markdown",
   "metadata": {},
   "source": [
    "Note that while the numbers of values in each class are roughly equal, the\n",
    "widths of the first four intervals are rather different:"
   ]
  },
  {
   "cell_type": "code",
   "execution_count": 13,
   "metadata": {},
   "outputs": [
    {
     "data": {
      "text/plain": [
       "array([ 1006.6,  2342.4,  2547.8, 12888. ])"
      ]
     },
     "execution_count": 13,
     "metadata": {},
     "output_type": "execute_result"
    }
   ],
   "source": [
    "q5.bins[1:] - q5.bins[:-1]"
   ]
  },
  {
   "cell_type": "markdown",
   "metadata": {},
   "source": [
    "### Mean-standard deviation\n",
    "\n",
    "Our third classifier uses the sample mean $\\bar{x} =\n",
    "\\frac{1}{n} \\sum_{i=1}^n x_i$ and sample standard deviation $s = \\sqrt{\n",
    "\\frac{1}{n-1} \\sum_{i=1}^n (x_i - \\bar{x})  }$ to define class boundaries as\n",
    "some distance from the sample mean, with the distance being a multiple of the\n",
    "standard deviation. For example, a common definition for $k=5$ is to set the\n",
    "upper limit of the first class to two standard deviations ($c_{0}^u = \\bar{x} - 2 s$), and the intermediate\n",
    "classes to have upper limits within one standard deviation ($c_{1}^u = \\bar{x}-s,\\ c_{2}^u = \\bar{x}+s, \\ c_{3}^u\n",
    "= \\bar{x}+2s$). Any values greater (smaller) than two standard deviations above (below) the mean\n",
    "are placed into the top (bottom) class."
   ]
  },
  {
   "cell_type": "code",
   "execution_count": 14,
   "metadata": {},
   "outputs": [
    {
     "data": {
      "text/plain": [
       "StdMean                     \n",
       "\n",
       "      Interval         Count\n",
       "----------------------------\n",
       "(    -inf, -3179.37] |     0\n",
       "(-3179.37,  2025.58] |     1\n",
       "( 2025.58, 12435.48] |    28\n",
       "(12435.48, 17640.44] |     0\n",
       "(17640.44, 22361.00] |     3"
      ]
     },
     "execution_count": 14,
     "metadata": {},
     "output_type": "execute_result"
    }
   ],
   "source": [
    "msd = mapclassify.StdMean(mx['PCGDP1940'])\n",
    "msd"
   ]
  },
  {
   "cell_type": "markdown",
   "metadata": {},
   "source": [
    "This classifier is best used when data is normally distributed or, \n",
    "at least, when the sample mean is a meaningful measure to anchor the classification around. Clearly this is\n",
    "not the case for our income data as the positive skew results in a loss of\n",
    "information when we use the standard deviation. The lack of symmetry leads to\n",
    "an inadmissible upper bound for the first  class as well as a concentration of the\n",
    "vast majority of values in the middle class.\n",
    "\n",
    "### Maximum Breaks\n",
    "\n",
    "The maximum breaks classifier decides where to set the break points between\n",
    "classes by considering the difference between sorted values. That is, rather\n",
    "than considering a value of the dataset in itself, it looks at how apart each\n",
    "value is from the next one in the sorted sequence. The classifier then places\n",
    "the $k-1$ break points in between the pairs of values most stretched apart from\n",
    "each other in the entire sequence, proceeding in descending order relative to\n",
    "the size of the breaks:"
   ]
  },
  {
   "cell_type": "code",
   "execution_count": 15,
   "metadata": {},
   "outputs": [
    {
     "data": {
      "text/plain": [
       "MaximumBreaks               \n",
       "\n",
       "      Interval         Count\n",
       "----------------------------\n",
       "[ 1892.00,  5854.00] |    17\n",
       "( 5854.00, 11574.00] |    11\n",
       "(11574.00, 14974.00] |     1\n",
       "(14974.00, 19890.50] |     1\n",
       "(19890.50, 22361.00] |     2"
      ]
     },
     "execution_count": 15,
     "metadata": {},
     "output_type": "execute_result"
    }
   ],
   "source": [
    "mb5 = mapclassify.MaximumBreaks(mx['PCGDP1940'], k=5)\n",
    "mb5"
   ]
  },
  {
   "cell_type": "markdown",
   "metadata": {},
   "source": [
    "Maximum breaks is an appropriate approach when we are interested in making sure\n",
    "observations in each class are separated from those in neighboring classes. As\n",
    "such, it works well in cases where the distribution of values is not unimodal.\n",
    "In addition, the algorithm is relatively fast to compute. However, its\n",
    "simplicity can sometimes cause unexpected results. To the extent in only\n",
    "considers the top $k-1$ differences between consecutive values, other more nuanced\n",
    "within-group differences and dissimilarities can be ignored."
   ]
  },
  {
   "cell_type": "markdown",
   "metadata": {},
   "source": [
    "### Head-Tail Breaks\n",
    "\n",
    "The head tail algorithm {cite}`Jiang_2013` is based on a recursive partitioning of the data using splits around\n",
    "iterative means. The splitting process continues until the distributions within each of\n",
    "the classes no longer display a heavy-tailed distribution in the sense that\n",
    "there is a balance between the number of smaller and larger values assigned to\n",
    "each class."
   ]
  },
  {
   "cell_type": "code",
   "execution_count": 16,
   "metadata": {},
   "outputs": [
    {
     "data": {
      "text/plain": [
       "HeadTailBreaks              \n",
       "\n",
       "      Interval         Count\n",
       "----------------------------\n",
       "[ 1892.00,  7230.53] |    20\n",
       "( 7230.53, 12244.42] |     9\n",
       "(12244.42, 20714.00] |     1\n",
       "(20714.00, 22163.00] |     1\n",
       "(22163.00, 22361.00] |     1"
      ]
     },
     "execution_count": 16,
     "metadata": {},
     "output_type": "execute_result"
    }
   ],
   "source": [
    "ht = mapclassify.HeadTailBreaks(mx['PCGDP1940'])\n",
    "ht"
   ]
  },
  {
   "cell_type": "markdown",
   "metadata": {},
   "source": [
    "For data with a heavy-tailed distribution, such as power law and log normal\n",
    "distributions, the head tail breaks classifier  can be particularly\n",
    "effective.\n",
    "\n",
    "### Jenks Caspall\n",
    "\n",
    "This approach, as well as the following two, tackles the classification\n",
    "challenge from a heuristic perspective, rather than from deterministic one.\n",
    "Originally proposed by {cite}`Jenks_1971`, this algorithm aims to minimise\n",
    "the sum of absolute deviations around class means. The approach begins with a\n",
    "prespecified number of classes and an arbitrary initial set of class breaks -\n",
    "for example using quintiles. The algorithm attempts to improve the objective\n",
    "function by considering the movement of observations between adjacent classes.\n",
    "For example, the largest value in the lowest quintile would be considered for\n",
    "movement into the second quintile, while the lowest value in the second\n",
    "quintile would be considered for a possible move into the first quintile. The\n",
    "candidate move resulting in the largest reduction in the objective function\n",
    "would be made, and the process continues until no other improving moves are\n",
    "possible. The Jenks Caspall algorithm is the one-dimension case of the widely\n",
    "used K-Means algorithm for clustering."
   ]
  },
  {
   "cell_type": "code",
   "execution_count": 17,
   "metadata": {},
   "outputs": [
    {
     "data": {
      "text/plain": [
       "JenksCaspall                \n",
       "\n",
       "      Interval         Count\n",
       "----------------------------\n",
       "[ 1892.00,  2934.00] |     4\n",
       "( 2934.00,  4414.00] |     9\n",
       "( 4414.00,  6399.00] |     5\n",
       "( 6399.00, 12132.00] |    11\n",
       "(12132.00, 22361.00] |     3"
      ]
     },
     "execution_count": 17,
     "metadata": {},
     "output_type": "execute_result"
    }
   ],
   "source": [
    "numpy.random.seed(12345)\n",
    "jc5 = mapclassify.JenksCaspall(mx['PCGDP1940'], k=5)\n",
    "jc5"
   ]
  },
  {
   "cell_type": "markdown",
   "metadata": {},
   "source": [
    "### Fisher Jenks\n",
    "\n",
    "The second optimal algorithm adopts a dynamic programming approach to minimise\n",
    "the sum of the absolute deviations around class medians. In contrast to the\n",
    "Jenks-Caspall approach, Fisher-Jenks is guaranteed to produce an optimal\n",
    "classification for a prespecified number of classes:"
   ]
  },
  {
   "cell_type": "code",
   "execution_count": 18,
   "metadata": {},
   "outputs": [
    {
     "data": {
      "text/plain": [
       "FisherJenks                 \n",
       "\n",
       "      Interval         Count\n",
       "----------------------------\n",
       "[ 1892.00,  5309.00] |    17\n",
       "( 5309.00,  9073.00] |     8\n",
       "( 9073.00, 12132.00] |     4\n",
       "(12132.00, 17816.00] |     1\n",
       "(17816.00, 22361.00] |     2"
      ]
     },
     "execution_count": 18,
     "metadata": {},
     "output_type": "execute_result"
    }
   ],
   "source": [
    "numpy.random.seed(12345)\n",
    "fj5 = mapclassify.FisherJenks(mx['PCGDP1940'], k=5)\n",
    "fj5"
   ]
  },
  {
   "cell_type": "markdown",
   "metadata": {},
   "source": [
    "### Max-p\n",
    "\n",
    "Finally, the max-p classifiers adopts the algorithm underlying the max-p region\n",
    "building method {cite}`Duque_2011` to the case of map classification. It is similar in spirit to\n",
    "Jenks Caspall in that it considers greedy swapping between adjacent classes to\n",
    "improve the objective function. It is a heuristic, however, so unlike\n",
    "Fisher-Jenks, there is no optimal solution guaranteed:"
   ]
  },
  {
   "cell_type": "code",
   "execution_count": 19,
   "metadata": {},
   "outputs": [
    {
     "data": {
      "text/plain": [
       "MaxP                        \n",
       "\n",
       "      Interval         Count\n",
       "----------------------------\n",
       "[ 1892.00,  3569.00] |     7\n",
       "( 3569.00,  5309.00] |    10\n",
       "( 5309.00,  7990.00] |     5\n",
       "( 7990.00, 10384.00] |     5\n",
       "(10384.00, 22361.00] |     5"
      ]
     },
     "execution_count": 19,
     "metadata": {},
     "output_type": "execute_result"
    }
   ],
   "source": [
    "mp5 = mapclassify.MaxP(mx['PCGDP1940'], k=5)\n",
    "mp5"
   ]
  },
  {
   "cell_type": "markdown",
   "metadata": {},
   "source": [
    "### Comparing Classification schemes\n",
    "\n",
    "As a special case of clustering, the definition of\n",
    "the number of classes and the class boundaries pose a problem to the map\n",
    "designer. Recall that the Freedman-Diaconis rule was said to be optimal,\n",
    "however, the optimality necessitates the specification of an objective function.\n",
    "In the case of Freedman-Diaconis, the objective function is to minimise the\n",
    "difference between the area under estimated kernel density based on the sample\n",
    "and the area under the theoretical population distribution that generated the\n",
    "sample. \n",
    "\n",
    "This notion of statistical fit is an important one. However, it is not the\n",
    "only consideration when evaluating classifiers for the purpose of choropleth\n",
    "mapping. Also relevant is the spatial distribution of the attribute values and\n",
    "the ability of the classifier to convey a sense of that spatial distribution. As\n",
    "we shall see, this is not necessarily directly related to the statistical\n",
    "distribution of the attribute values. We will return to a joint consideration of both\n",
    "the statistical and spatial distribution of the attribute values in comparison\n",
    "of classifiers below.\n",
    "\n",
    "For map classification, a common optimality criterion\n",
    "is a measure of fit. In PySAL, the \"absolute deviation around class\n",
    "medians\" (ADCM) is calculated and provides a measure of fit that allows for\n",
    "comparison of alternative classifiers for the same value of $k$. The ADCM\n",
    "will give us a sense of how \"compact\" each group is. To see this, we can\n",
    "compare different classifiers for $k=5$ on the Mexico data:"
   ]
  },
  {
   "cell_type": "code",
   "execution_count": 20,
   "metadata": {
    "caption": "Absolute Deviation around Class Medians. Alternative classification schemes, Mexican State PCGDP1940.",
    "tags": []
   },
   "outputs": [
    {
     "data": {
      "image/png": "[encoded data removed]",
      "text/plain": [
       "<Figure size 432x288 with 1 Axes>"
      ]
     },
     "metadata": {
      "needs_background": "light"
     },
     "output_type": "display_data"
    }
   ],
   "source": [
    "# Bunch classifier objects\n",
    "class5 = ei5, q5, msd, mb5, ht, jc5, fj5, mp5\n",
    "# Collect ADCM for each classifier\n",
    "fits = numpy.array([ c.adcm for c in class5])\n",
    "# Convert ADCM scores to a DataFrame\n",
    "adcms = pandas.DataFrame(fits)\n",
    "# Add classifier names\n",
    "adcms['classifier'] = [c.name for c in class5]\n",
    "# Add column names to the ADCM\n",
    "adcms.columns = ['ADCM', 'Classifier']\n",
    "ax = seaborn.barplot(\n",
    "    y='Classifier', x='ADCM', data=adcms, palette='Pastel1'\n",
    ")"
   ]
  },
  {
   "cell_type": "markdown",
   "metadata": {},
   "source": [
    "As is to be expected, the Fisher-Jenks classifier dominates all other k=5\n",
    "classifiers with an ADCM of 23,729 (remember, lower is better). Interestingly, the equal interval classifier\n",
    "performs well despite the problems associated with being sensitive to the\n",
    "extreme values in the distribution. The mean-standard deviation classifier has a\n",
    "very poor fit due to the skewed nature of the data and the concentrated\n",
    "assignment of the majority of the observations to the central class."
   ]
  },
  {
   "cell_type": "markdown",
   "metadata": {},
   "source": [
    "## Colour\n",
    "\n",
    "Having considered the evaluation of the statistical distribution of\n",
    "the attribute values and the alternative classification approaches, we turn\n",
    "to select the symbolisation and colour scheme. Together with the choice \n",
    "of classifier, these will determine the overall\n",
    "effectiveness of the choropleth map in representing the spatial\n",
    "distribution of the attribute values."
   ]
  },
  {
   "cell_type": "markdown",
   "metadata": {},
   "source": [
    "Prior to examining the attribute values it is important to note that, as we will\n",
    "see in the figures below, the\n",
    "spatial units for these states are far from homogeneous in their shapes and\n",
    "sizes. This can have major impacts on our brain's pattern recognition capabilities\n",
    "as we tend to be drawn to the larger polygons, even though they might not be\n",
    "the most relevant one for our analysis. Yet, when we considered the\n",
    "statistical distribution above, each observation was given equal weight. Thus,\n",
    "the spatial distribution becomes more complicated to evaluate from a visual and\n",
    "statistical perspective.\n",
    "\n",
    "The choice of a colour scheme for a\n",
    "choropleth map should be based on the type of variable under consideration\n",
    "{cite}`Brewer1997mapping`. For example, the data may be sequential, diverging, and qualitative.\n",
    "\n",
    "We will illustrate it with a quantile map:"
   ]
  },
  {
   "cell_type": "code",
   "execution_count": 24,
   "metadata": {
    "caption": "Quantile choropleth, Mexican State PCGDP1940.",
    "tags": []
   },
   "outputs": [
    {
     "data": {
      "image/png": "[encoded data removed]",
      "text/plain": [
       "<Figure size 432x288 with 1 Axes>"
      ]
     },
     "metadata": {
      "needs_background": "light"
     },
     "output_type": "display_data"
    }
   ],
   "source": [
    "ax = mx.plot(\n",
    "    column='PCGDP1940',          # Data to plot\n",
    "    scheme='MaxP',          # Classification scheme\n",
    "    cmap='Blues',                 # Colour palette\n",
    "    edgecolor='k',               # Borderline colour\n",
    "    linewidth=0.1,               # Borderline width\n",
    "    legend=True,                 # Add legend\n",
    "    legend_kwds={'fmt':'{:.0f}'} # Remove decimals in legend\n",
    ")\n",
    "ax.set_axis_off();"
   ]
  },
  {
   "cell_type": "markdown",
   "metadata": {},
   "source": [
    "Making choropleths on geo-tables is an extension of plotting their geometries. We use the same `.plot` function but now we also select the column of data we want to encode with colour (in our case, `PCGDP1940`). We can also specify the classification scheme using the same names as we saw above with `mapclassify`. In fact, the underlying computation is always performed with `mapclassify`. This approach simply dispatches it so it is more convenient and we can make maps in one line of code.\n",
    "Next, we pick the colour scheme. The default colour map used by `geopandas` is viridis, which is a multi-hue sequential scheme but, for this example, we pick the blues scale from Colour Brewer. A list of different colour mappings can be found here: https://matplotlib.org/stable/tutorials/colors/colormaps.html\n",
    "Finally, we specify we would like to add a legend, and format it for legibility so that there are no decimals and it reads cleaner."
   ]
  },
  {
   "cell_type": "markdown",
   "metadata": {},
   "source": [
    "### Diverging Palettes\n",
    "\n",
    "A slightly different pallete from the sequential one is the so-called \"diverging\" values palette. This is\n",
    "useful with continuous data when one wishes to place equal emphasis on mid-range critical values as\n",
    "well as extremes at both ends of the distribution. Light colours are used to\n",
    "emphasize the mid-range class while dark colours with contrasting hues are used\n",
    "to distinguish the low and high extremes.\n",
    "\n",
    "To illustrate this with the Mexican\n",
    "income data, we can derive a new variable which measures the change in a state's\n",
    "rank in the income distribution between 1940 to 2000:"
   ]
  },
  {
   "cell_type": "code",
   "execution_count": 26,
   "metadata": {},
   "outputs": [],
   "source": [
    "# Create income-based rank table (Rank 1 is highest)\n",
    "rnk = mx[\n",
    "    ['NAME', 'PCGDP1940', 'PCGDP2000']\n",
    "].rank(ascending=False)\n",
    "# Compute change from 1940 to 2000\n",
    "rnk['change'] = rnk['PCGDP1940'] - rnk['PCGDP2000']\n",
    "# Add column with bin class\n",
    "rnk['class'] = pandas.cut(rnk['change'], [-numpy.inf, -5, 0, 5, 20])"
   ]
  },
  {
   "cell_type": "markdown",
   "metadata": {},
   "source": [
    "The `rnk` table now contains the change in rank positions of each state between 1940 and 2000, as well as a `class` column that binds together states in the  [-inf, -5), [-5, 0), [0, 5), [5, 20] groups. Note that these are descending ranks, so the wealthiest state in any period has a rank of 1 and therefore when considering the change in ranks, a negative change reflects moving down the income distribution. We can use a divergent palette to signify both intensity of the change in ranks, as well as direction:"
   ]
  },
  {
   "cell_type": "code",
   "execution_count": 27,
   "metadata": {
    "caption": "Divergent palette, Mexican State per capita income rank change.",
    "tags": []
   },
   "outputs": [
    {
     "data": {
      "image/png": "[encoded data removed]",
      "text/plain": [
       "<Figure size 432x288 with 1 Axes>"
      ]
     },
     "metadata": {
      "needs_background": "light"
     },
     "output_type": "display_data"
    }
   ],
   "source": [
    "ax = mx[['geometry']].join(rnk).plot(\n",
    "    'class', legend=True, cmap='RdYlGn'\n",
    ")\n",
    "ax.set_axis_off();"
   ]
  },
  {
   "cell_type": "markdown",
   "metadata": {},
   "source": [
    "In the map, the red (green) hues are states that have moved downwards (upwards) in the\n",
    "income distribution, with the darker hue representing a larger movement."
   ]
  }
 ],
 "metadata": {
  "jupytext": {
   "formats": "ipynb,md"
  },
  "kernelspec": {
   "display_name": "Python 3",
   "language": "python",
   "name": "python3"
  },
  "language_info": {
   "codemirror_mode": {
    "name": "ipython",
    "version": 3
   },
   "file_extension": ".py",
   "mimetype": "text/x-python",
   "name": "python",
   "nbconvert_exporter": "python",
   "pygments_lexer": "ipython3",
   "version": "3.8.10"
  },
  "toc-autonumbering": false,
  "toc-showcode": false,
  "toc-showmarkdowntxt": false,
  "toc-showtags": true
 },
 "nbformat": 4,
 "nbformat_minor": 5
}
